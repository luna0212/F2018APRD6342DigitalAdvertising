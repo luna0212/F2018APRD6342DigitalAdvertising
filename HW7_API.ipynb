{
 "cells": [
  {
   "cell_type": "markdown",
   "metadata": {},
   "source": [
    "\n",
    "# Getting Census Data from CensusReporter\n",
    "## Marketing Use Case for coffee from Mintel Report - HW for Digital Advertising\n"
   ]
  },
  {
   "cell_type": "code",
   "execution_count": 10,
   "metadata": {},
   "outputs": [],
   "source": [
    "import pandas as pd\n",
    "import requests\n",
    "from time import sleep\n",
    "import json"
   ]
  },
  {
   "cell_type": "code",
   "execution_count": 7,
   "metadata": {},
   "outputs": [],
   "source": [
    "#import msas data\n",
    "df = pd.read_csv(\"msas.csv\")\n",
    "geoid = list(df[\"CBSA\"])\n",
    "\n",
    "geoidstr = []\n",
    "for i in geoid:\n",
    "    i = \"31000US\"+str(i) \n",
    "    geoidstr.append(i)\n",
    "\n",
    "#these are the tables we need. Appending to a list separated only by commas\n",
    "#as required by the censusreporterapi\n",
    "tableids = ['B01001', 'B19001', 'B03002']\n",
    "tableidstring = ','.join(tableids)\n"
   ]
  },
  {
   "cell_type": "code",
   "execution_count": 4,
   "metadata": {},
   "outputs": [],
   "source": [
    "#create list we need\n",
    "geoidlist = []\n",
    "agelist=[]\n",
    "incomelist = []\n",
    "racelist = []"
   ]
  },
  {
   "cell_type": "code",
   "execution_count": 11,
   "metadata": {},
   "outputs": [],
   "source": [
    "#grab data from CensusReporter\n",
    "for i in geoidstr:\n",
    "            requesturl = 'http://api.censusreporter.org/1.0/data/show/latest?table_ids=%s&geo_ids=%s' % (tableidstring, i)  \n",
    "            loadedjson = requests.get(requesturl)\n",
    "            parsedjson = json.loads(loadedjson.content.decode('utf-8')) \n",
    "            geoidlist.append(parsedjson['geography']) \n",
    "            agelist.append(parsedjson['data'][i]['B01001']['estimate']['B01001007'] + \n",
    "              parsedjson['data'][i]['B01001']['estimate']['B01001031'] +\n",
    "              parsedjson['data'][i]['B01001']['estimate']['B01001008'] + \n",
    "              parsedjson['data'][i]['B01001']['estimate']['B01001032'] +\n",
    "              parsedjson['data'][i]['B01001']['estimate']['B01001009'] + \n",
    "              parsedjson['data'][i]['B01001']['estimate']['B01001033'] +\n",
    "              parsedjson['data'][i]['B01001']['estimate']['B01001010'] + \n",
    "              parsedjson['data'][i]['B01001']['estimate']['B01001034'] +\n",
    "              parsedjson['data'][i]['B01001']['estimate']['B01001011'] + \n",
    "              parsedjson['data'][i]['B01001']['estimate']['B01001035'] +\n",
    "              parsedjson['data'][i]['B01001']['estimate']['B01001012'] + \n",
    "              parsedjson['data'][i]['B01001']['estimate']['B01001036'])\n",
    "            incomelist.append(parsedjson['data'][i]['B19001']['estimate']['B19001011'] +\n",
    "              parsedjson['data'][i]['B19001']['estimate']['B19001012'])\n",
    "            racelist.append(parsedjson['data'][i]['B03002']['estimate']['B03002012'])\n",
    "            sleep(0.5) "
   ]
  },
  {
   "cell_type": "code",
   "execution_count": 12,
   "metadata": {},
   "outputs": [],
   "source": [
    "#create new list\n",
    "racelist2 = racelist\n",
    "geoidlist2 = geoidlist\n",
    "agelist2 = agelist\n",
    "incomelist2 = incomelist\n",
    "\n",
    "racelist3 = []\n",
    "geoidlist3 = []\n",
    "agelist3 = []\n",
    "incomelist3 = []"
   ]
  },
  {
   "cell_type": "code",
   "execution_count": 13,
   "metadata": {},
   "outputs": [
    {
     "name": "stdout",
     "output_type": "stream",
     "text": [
      "highest count of the audience age18-34: 4806939.0 , {'31000US35620': {'name': 'New York-Newark-Jersey City, NY-NJ-PA Metro Area'}}\n",
      "highest count of the audience income50K-74.9K: 1038188.0 , {'31000US35620': {'name': 'New York-Newark-Jersey City, NY-NJ-PA Metro Area'}}\n",
      "highest count of the audience Hispanic populations: 6031492.0 , {'31000US31080': {'name': 'Los Angeles-Long Beach-Anaheim, CA Metro Area'}}\n"
     ]
    }
   ],
   "source": [
    "for n in racelist2:\n",
    "    if n != None:\n",
    "        racelist3.append(n)\n",
    "        geoidlist3.append(geoidlist2[racelist2.index(n)])\n",
    "        agelist3.append(agelist2[racelist2.index(n)])\n",
    "        incomelist3.append(incomelist2[racelist2.index(n)])\n",
    "\n",
    "print(\"highest count of the audience age18-34:\",max(agelist),\",\",geoidlist[agelist.index(max(agelist))])\n",
    "print(\"highest count of the audience income50K-74.9K:\",max(incomelist),\",\",geoidlist[incomelist.index(max(incomelist))])\n",
    "print(\"highest count of the audience Hispanic populations:\",max(racelist3),\",\",geoidlist3[racelist3.index(max(racelist3))])\n"
   ]
  },
  {
   "cell_type": "code",
   "execution_count": 14,
   "metadata": {},
   "outputs": [
    {
     "data": {
      "text/html": [
       "<div>\n",
       "<style scoped>\n",
       "    .dataframe tbody tr th:only-of-type {\n",
       "        vertical-align: middle;\n",
       "    }\n",
       "\n",
       "    .dataframe tbody tr th {\n",
       "        vertical-align: top;\n",
       "    }\n",
       "\n",
       "    .dataframe thead th {\n",
       "        text-align: right;\n",
       "    }\n",
       "</style>\n",
       "<table border=\"1\" class=\"dataframe\">\n",
       "  <thead>\n",
       "    <tr style=\"text-align: right;\">\n",
       "      <th></th>\n",
       "      <th>geoid</th>\n",
       "      <th>agepercent</th>\n",
       "      <th>incomepercent</th>\n",
       "      <th>racepercent</th>\n",
       "      <th>avg_score</th>\n",
       "    </tr>\n",
       "  </thead>\n",
       "  <tbody>\n",
       "    <tr>\n",
       "      <th>384</th>\n",
       "      <td>{'31000US35620': {'name': 'New York-Newark-Jer...</td>\n",
       "      <td>1.000000</td>\n",
       "      <td>1.000000</td>\n",
       "      <td>0.828053</td>\n",
       "      <td>0.942684</td>\n",
       "    </tr>\n",
       "    <tr>\n",
       "      <th>361</th>\n",
       "      <td>{'31000US31080': {'name': 'Los Angeles-Long Be...</td>\n",
       "      <td>0.703381</td>\n",
       "      <td>0.682105</td>\n",
       "      <td>1.000000</td>\n",
       "      <td>0.795162</td>\n",
       "    </tr>\n",
       "    <tr>\n",
       "      <th>153</th>\n",
       "      <td>{'31000US16980': {'name': 'Chicago-Naperville-...</td>\n",
       "      <td>0.465513</td>\n",
       "      <td>0.562460</td>\n",
       "      <td>0.352293</td>\n",
       "      <td>0.460088</td>\n",
       "    </tr>\n",
       "    <tr>\n",
       "      <th>268</th>\n",
       "      <td>{'31000US16980': {'name': 'Chicago-Naperville-...</td>\n",
       "      <td>0.465513</td>\n",
       "      <td>0.562460</td>\n",
       "      <td>0.352293</td>\n",
       "      <td>0.460088</td>\n",
       "    </tr>\n",
       "    <tr>\n",
       "      <th>40</th>\n",
       "      <td>{'31000US16980': {'name': 'Chicago-Naperville-...</td>\n",
       "      <td>0.465513</td>\n",
       "      <td>0.562460</td>\n",
       "      <td>0.352293</td>\n",
       "      <td>0.460088</td>\n",
       "    </tr>\n",
       "    <tr>\n",
       "      <th>281</th>\n",
       "      <td>{'31000US19100': {'name': 'Dallas-Fort Worth-A...</td>\n",
       "      <td>0.367752</td>\n",
       "      <td>0.456243</td>\n",
       "      <td>0.354150</td>\n",
       "      <td>0.392715</td>\n",
       "    </tr>\n",
       "    <tr>\n",
       "      <th>53</th>\n",
       "      <td>{'31000US19100': {'name': 'Dallas-Fort Worth-A...</td>\n",
       "      <td>0.367752</td>\n",
       "      <td>0.456243</td>\n",
       "      <td>0.354150</td>\n",
       "      <td>0.392715</td>\n",
       "    </tr>\n",
       "    <tr>\n",
       "      <th>166</th>\n",
       "      <td>{'31000US19100': {'name': 'Dallas-Fort Worth-A...</td>\n",
       "      <td>0.367752</td>\n",
       "      <td>0.456243</td>\n",
       "      <td>0.354150</td>\n",
       "      <td>0.392715</td>\n",
       "    </tr>\n",
       "    <tr>\n",
       "      <th>97</th>\n",
       "      <td>{'31000US26420': {'name': 'Houston-The Woodlan...</td>\n",
       "      <td>0.345310</td>\n",
       "      <td>0.396790</td>\n",
       "      <td>0.426063</td>\n",
       "      <td>0.389388</td>\n",
       "    </tr>\n",
       "    <tr>\n",
       "      <th>325</th>\n",
       "      <td>{'31000US26420': {'name': 'Houston-The Woodlan...</td>\n",
       "      <td>0.345310</td>\n",
       "      <td>0.396790</td>\n",
       "      <td>0.426063</td>\n",
       "      <td>0.389388</td>\n",
       "    </tr>\n",
       "  </tbody>\n",
       "</table>\n",
       "</div>"
      ],
      "text/plain": [
       "                                                 geoid  agepercent  \\\n",
       "384  {'31000US35620': {'name': 'New York-Newark-Jer...    1.000000   \n",
       "361  {'31000US31080': {'name': 'Los Angeles-Long Be...    0.703381   \n",
       "153  {'31000US16980': {'name': 'Chicago-Naperville-...    0.465513   \n",
       "268  {'31000US16980': {'name': 'Chicago-Naperville-...    0.465513   \n",
       "40   {'31000US16980': {'name': 'Chicago-Naperville-...    0.465513   \n",
       "281  {'31000US19100': {'name': 'Dallas-Fort Worth-A...    0.367752   \n",
       "53   {'31000US19100': {'name': 'Dallas-Fort Worth-A...    0.367752   \n",
       "166  {'31000US19100': {'name': 'Dallas-Fort Worth-A...    0.367752   \n",
       "97   {'31000US26420': {'name': 'Houston-The Woodlan...    0.345310   \n",
       "325  {'31000US26420': {'name': 'Houston-The Woodlan...    0.345310   \n",
       "\n",
       "     incomepercent  racepercent  avg_score  \n",
       "384       1.000000     0.828053   0.942684  \n",
       "361       0.682105     1.000000   0.795162  \n",
       "153       0.562460     0.352293   0.460088  \n",
       "268       0.562460     0.352293   0.460088  \n",
       "40        0.562460     0.352293   0.460088  \n",
       "281       0.456243     0.354150   0.392715  \n",
       "53        0.456243     0.354150   0.392715  \n",
       "166       0.456243     0.354150   0.392715  \n",
       "97        0.396790     0.426063   0.389388  \n",
       "325       0.396790     0.426063   0.389388  "
      ]
     },
     "execution_count": 14,
     "metadata": {},
     "output_type": "execute_result"
    }
   ],
   "source": [
    "agepercent = []\n",
    "incomepercent = []\n",
    "racepercent= []\n",
    "for i in agelist3:\n",
    "    agepercent.append(i/max(agelist3))\n",
    "    \n",
    "for i in incomelist3:\n",
    "    incomepercent.append(i/max(incomelist3))\n",
    "    \n",
    "for i in racelist3:\n",
    "    racepercent.append(i/max(racelist3))\n",
    "\n",
    "dfscore = pd.DataFrame({'geoid':geoidlist3})\n",
    "dfscore['agepercent'] = agepercent\n",
    "dfscore['incomepercent'] = incomepercent\n",
    "dfscore['racepercent'] = racepercent\n",
    "dfscore['avg_score'] = (dfscore['agepercent'] + dfscore['incomepercent'] + dfscore['racepercent'] ) / 3\n",
    "dfsorted = dfscore.sort_values(by=['avg_score'],ascending=False)\n",
    "dfsorted.head(10)"
   ]
  },
  {
   "cell_type": "code",
   "execution_count": 15,
   "metadata": {},
   "outputs": [
    {
     "data": {
      "text/plain": [
       "'/Users/pudin/Desktop/digital'"
      ]
     },
     "execution_count": 15,
     "metadata": {},
     "output_type": "execute_result"
    }
   ],
   "source": []
  },
  {
   "cell_type": "code",
   "execution_count": null,
   "metadata": {},
   "outputs": [],
   "source": []
  }
 ],
 "metadata": {
  "kernelspec": {
   "display_name": "Python 3",
   "language": "python",
   "name": "python3"
  },
  "language_info": {
   "codemirror_mode": {
    "name": "ipython",
    "version": 3
   },
   "file_extension": ".py",
   "mimetype": "text/x-python",
   "name": "python",
   "nbconvert_exporter": "python",
   "pygments_lexer": "ipython3",
   "version": "3.6.5"
  }
 },
 "nbformat": 4,
 "nbformat_minor": 2
}
