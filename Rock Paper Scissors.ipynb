{
 "cells": [
  {
   "cell_type": "markdown",
   "metadata": {},
   "source": [
    "# Introduction to Python - Rock-Paper-Scissors exercise\n",
    "- The program allows a user to compete against a computer in the “Rock-Paper- Scissors” game.\n",
    "- The program asks a user to input a choice (Rock, Paper, or Scissors). (Note: the program should be able to handle incorrect user input.)\n",
    "- The program (computer) generates its own choice (Rock, Paper, or Scissors). \n",
    "- The program compares the choice of the user against its own choice and calculates a score.\n",
    "- The program always shows the score to the user.\n",
    "- The program continues until either the program or the user has “three” wins. "
   ]
  },
  {
   "cell_type": "code",
   "execution_count": 1,
   "metadata": {},
   "outputs": [],
   "source": [
    "#import module \n",
    "import random"
   ]
  },
  {
   "cell_type": "code",
   "execution_count": 2,
   "metadata": {},
   "outputs": [],
   "source": [
    "win_player = 0\n",
    "win_computer = 0"
   ]
  },
  {
   "cell_type": "code",
   "execution_count": 3,
   "metadata": {},
   "outputs": [
    {
     "name": "stdout",
     "output_type": "stream",
     "text": [
      "\n",
      "Enter R, P, or S: R\n",
      "\n",
      "Choice Player: R Choice Computer: S\n",
      "Score Player: 1 Score Computer: 0\n",
      "\n",
      "Enter R, P, or S: R\n",
      "\n",
      "Draw!\n",
      "\n",
      "Choice Player: R Choice Computer: R\n",
      "Score Player: 1 Score Computer: 0\n",
      "\n",
      "Enter R, P, or S: P\n",
      "\n",
      "Choice Player: P Choice Computer: R\n",
      "Score Player: 2 Score Computer: 0\n",
      "\n",
      "Enter R, P, or S: S\n",
      "\n",
      "Choice Player: S Choice Computer: R\n",
      "Score Player: 2 Score Computer: 1\n",
      "\n",
      "Enter R, P, or S: S\n",
      "\n",
      "Draw!\n",
      "\n",
      "Choice Player: S Choice Computer: S\n",
      "Score Player: 2 Score Computer: 1\n",
      "\n",
      "Enter R, P, or S: R\n",
      "\n",
      "Choice Player: R Choice Computer: P\n",
      "Score Player: 2 Score Computer: 2\n",
      "\n",
      "Enter R, P, or S: S\n",
      "\n",
      "Draw!\n",
      "\n",
      "Choice Player: S Choice Computer: S\n",
      "Score Player: 2 Score Computer: 2\n",
      "\n",
      "Enter R, P, or S: R\n",
      "\n",
      "Draw!\n",
      "\n",
      "Choice Player: R Choice Computer: R\n",
      "Score Player: 2 Score Computer: 2\n",
      "\n",
      "Enter R, P, or S: R\n",
      "\n",
      "Choice Player: R Choice Computer: P\n",
      "Score Player: 2 Score Computer: 3\n",
      "\n",
      "Computer Wins (Oh Nooo).\n",
      "\n",
      "<End Program>\n"
     ]
    }
   ],
   "source": [
    "while (win_player != 3) and (win_computer != 3):\n",
    "\n",
    "#Player input.\n",
    "    while True:\n",
    "        choice_player = input(\"\\nEnter R, P, or S: \")\n",
    "        if (choice_player == \"R\") or (choice_player == \"P\") or (choice_player == \"S\"):\n",
    "            break\n",
    "        else:\n",
    "            print(\"\\nIncorrect input:\", choice_player)\n",
    "            continue\n",
    "#Choice computer.\n",
    "        \n",
    "    choice_computer = random.choice([\"R\", \"P\", \"S\"])\n",
    "    if choice_player == \"R\":\n",
    "        if choice_computer == \"R\":\n",
    "              print(\"\\nDraw!\")\n",
    "        if choice_computer == \"P\":\n",
    "              win_computer = win_computer + 1\n",
    "        if choice_computer == \"S\":\n",
    "              win_player = win_player + 1\n",
    "    if choice_player == \"P\":\n",
    "        if choice_computer == \"P\":\n",
    "              print(\"\\nDraw!\")\n",
    "        if choice_computer == \"R\":\n",
    "              win_player = win_player + 1\n",
    "        if choice_computer == \"S\":\n",
    "              win_computer = win_computer + 1\n",
    "    if choice_player == \"S\":\n",
    "        if choice_computer == \"S\":\n",
    "              print(\"\\nDraw!\")\n",
    "        if choice_computer == \"R\":\n",
    "              win_computer = win_computer + 1\n",
    "        if choice_computer == \"P\":\n",
    "              win_player = win_player + 1\n",
    "    print(\"\\nChoice Player:\", choice_player, \"Choice Computer:\", choice_computer)\n",
    "    print(\"Score Player:\", win_player, \"Score Computer:\", win_computer)\n",
    "\n",
    "if win_player > win_computer:\n",
    "    print(\"\\nPlayer Wins (Yuhuuu).\")\n",
    "else:\n",
    "    print(\"\\nComputer Wins (Oh Nooo).\")\n",
    "\n",
    "    print(\"\\n<End Program>\")"
   ]
  },
  {
   "cell_type": "code",
   "execution_count": null,
   "metadata": {
    "scrolled": true
   },
   "outputs": [],
   "source": []
  },
  {
   "cell_type": "code",
   "execution_count": null,
   "metadata": {},
   "outputs": [],
   "source": []
  }
 ],
 "metadata": {
  "kernelspec": {
   "display_name": "Python 3",
   "language": "python",
   "name": "python3"
  },
  "language_info": {
   "codemirror_mode": {
    "name": "ipython",
    "version": 3
   },
   "file_extension": ".py",
   "mimetype": "text/x-python",
   "name": "python",
   "nbconvert_exporter": "python",
   "pygments_lexer": "ipython3",
   "version": "3.6.5"
  }
 },
 "nbformat": 4,
 "nbformat_minor": 2
}
